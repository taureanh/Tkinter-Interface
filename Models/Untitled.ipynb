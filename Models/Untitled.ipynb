{
 "cells": [
  {
   "cell_type": "code",
   "execution_count": 1,
   "metadata": {},
   "outputs": [
    {
     "data": {
      "text/html": [
       "<div>\n",
       "<style scoped>\n",
       "    .dataframe tbody tr th:only-of-type {\n",
       "        vertical-align: middle;\n",
       "    }\n",
       "\n",
       "    .dataframe tbody tr th {\n",
       "        vertical-align: top;\n",
       "    }\n",
       "\n",
       "    .dataframe thead th {\n",
       "        text-align: right;\n",
       "    }\n",
       "</style>\n",
       "<table border=\"1\" class=\"dataframe\">\n",
       "  <thead>\n",
       "    <tr style=\"text-align: right;\">\n",
       "      <th></th>\n",
       "      <th>Date</th>\n",
       "      <th>Open</th>\n",
       "      <th>High</th>\n",
       "      <th>Low</th>\n",
       "      <th>Close</th>\n",
       "      <th>Adj Close</th>\n",
       "      <th>Volume</th>\n",
       "    </tr>\n",
       "  </thead>\n",
       "  <tbody>\n",
       "    <tr>\n",
       "      <th>0</th>\n",
       "      <td>2015-11-16</td>\n",
       "      <td>26.070000</td>\n",
       "      <td>27.000000</td>\n",
       "      <td>26.059999</td>\n",
       "      <td>26.790001</td>\n",
       "      <td>22.808805</td>\n",
       "      <td>44949600</td>\n",
       "    </tr>\n",
       "    <tr>\n",
       "      <th>1</th>\n",
       "      <td>2015-11-17</td>\n",
       "      <td>26.799999</td>\n",
       "      <td>27.270000</td>\n",
       "      <td>26.680000</td>\n",
       "      <td>26.809999</td>\n",
       "      <td>22.825829</td>\n",
       "      <td>30490200</td>\n",
       "    </tr>\n",
       "    <tr>\n",
       "      <th>2</th>\n",
       "      <td>2015-11-18</td>\n",
       "      <td>27.000000</td>\n",
       "      <td>27.160000</td>\n",
       "      <td>26.730000</td>\n",
       "      <td>27.120001</td>\n",
       "      <td>23.089760</td>\n",
       "      <td>27015700</td>\n",
       "    </tr>\n",
       "    <tr>\n",
       "      <th>3</th>\n",
       "      <td>2015-11-19</td>\n",
       "      <td>27.100000</td>\n",
       "      <td>27.650000</td>\n",
       "      <td>27.049999</td>\n",
       "      <td>27.370001</td>\n",
       "      <td>23.302610</td>\n",
       "      <td>27417400</td>\n",
       "    </tr>\n",
       "    <tr>\n",
       "      <th>4</th>\n",
       "      <td>2015-11-20</td>\n",
       "      <td>27.590000</td>\n",
       "      <td>27.780001</td>\n",
       "      <td>27.459999</td>\n",
       "      <td>27.570000</td>\n",
       "      <td>23.472891</td>\n",
       "      <td>26502800</td>\n",
       "    </tr>\n",
       "    <tr>\n",
       "      <th>...</th>\n",
       "      <td>...</td>\n",
       "      <td>...</td>\n",
       "      <td>...</td>\n",
       "      <td>...</td>\n",
       "      <td>...</td>\n",
       "      <td>...</td>\n",
       "      <td>...</td>\n",
       "    </tr>\n",
       "    <tr>\n",
       "      <th>1254</th>\n",
       "      <td>2020-11-09</td>\n",
       "      <td>39.919998</td>\n",
       "      <td>40.230000</td>\n",
       "      <td>38.119999</td>\n",
       "      <td>38.200001</td>\n",
       "      <td>38.200001</td>\n",
       "      <td>42649500</td>\n",
       "    </tr>\n",
       "    <tr>\n",
       "      <th>1255</th>\n",
       "      <td>2020-11-10</td>\n",
       "      <td>38.209999</td>\n",
       "      <td>39.029999</td>\n",
       "      <td>38.169998</td>\n",
       "      <td>38.720001</td>\n",
       "      <td>38.720001</td>\n",
       "      <td>31514500</td>\n",
       "    </tr>\n",
       "    <tr>\n",
       "      <th>1256</th>\n",
       "      <td>2020-11-11</td>\n",
       "      <td>39.009998</td>\n",
       "      <td>39.450001</td>\n",
       "      <td>38.439999</td>\n",
       "      <td>39.330002</td>\n",
       "      <td>39.330002</td>\n",
       "      <td>27332800</td>\n",
       "    </tr>\n",
       "    <tr>\n",
       "      <th>1257</th>\n",
       "      <td>2020-11-12</td>\n",
       "      <td>38.980000</td>\n",
       "      <td>39.389999</td>\n",
       "      <td>38.400002</td>\n",
       "      <td>38.669998</td>\n",
       "      <td>38.669998</td>\n",
       "      <td>29368300</td>\n",
       "    </tr>\n",
       "    <tr>\n",
       "      <th>1258</th>\n",
       "      <td>2020-11-13</td>\n",
       "      <td>41.200001</td>\n",
       "      <td>41.520000</td>\n",
       "      <td>40.560001</td>\n",
       "      <td>41.400002</td>\n",
       "      <td>41.400002</td>\n",
       "      <td>49106400</td>\n",
       "    </tr>\n",
       "  </tbody>\n",
       "</table>\n",
       "<p>1259 rows × 7 columns</p>\n",
       "</div>"
      ],
      "text/plain": [
       "            Date       Open       High        Low      Close  Adj Close  \\\n",
       "0     2015-11-16  26.070000  27.000000  26.059999  26.790001  22.808805   \n",
       "1     2015-11-17  26.799999  27.270000  26.680000  26.809999  22.825829   \n",
       "2     2015-11-18  27.000000  27.160000  26.730000  27.120001  23.089760   \n",
       "3     2015-11-19  27.100000  27.650000  27.049999  27.370001  23.302610   \n",
       "4     2015-11-20  27.590000  27.780001  27.459999  27.570000  23.472891   \n",
       "...          ...        ...        ...        ...        ...        ...   \n",
       "1254  2020-11-09  39.919998  40.230000  38.119999  38.200001  38.200001   \n",
       "1255  2020-11-10  38.209999  39.029999  38.169998  38.720001  38.720001   \n",
       "1256  2020-11-11  39.009998  39.450001  38.439999  39.330002  39.330002   \n",
       "1257  2020-11-12  38.980000  39.389999  38.400002  38.669998  38.669998   \n",
       "1258  2020-11-13  41.200001  41.520000  40.560001  41.400002  41.400002   \n",
       "\n",
       "        Volume  \n",
       "0     44949600  \n",
       "1     30490200  \n",
       "2     27015700  \n",
       "3     27417400  \n",
       "4     26502800  \n",
       "...        ...  \n",
       "1254  42649500  \n",
       "1255  31514500  \n",
       "1256  27332800  \n",
       "1257  29368300  \n",
       "1258  49106400  \n",
       "\n",
       "[1259 rows x 7 columns]"
      ]
     },
     "execution_count": 1,
     "metadata": {},
     "output_type": "execute_result"
    }
   ],
   "source": [
    "import pandas as pd\n",
    "import numpy as np\n",
    "CSCO = pd.read_csv(\"CSCO.csv\", date_parser=True)\n",
    "CSCO"
   ]
  },
  {
   "cell_type": "code",
   "execution_count": 2,
   "metadata": {},
   "outputs": [],
   "source": [
    "future_data = CSCO.tail(400)\n",
    "#future_data = CSCO.head(19)\n",
    "future_list = future_data[\"Close\"].to_list()"
   ]
  },
  {
   "cell_type": "code",
   "execution_count": 3,
   "metadata": {},
   "outputs": [],
   "source": [
    "future_input = np.array(future_list)"
   ]
  },
  {
   "cell_type": "code",
   "execution_count": 3,
   "metadata": {},
   "outputs": [],
   "source": [
    "input_data = CSCO.tail(20)\n",
    "input_list = input_data[\"Close\"].to_list()\n",
    "data_input = np.array(input_data)"
   ]
  },
  {
   "cell_type": "code",
   "execution_count": 4,
   "metadata": {},
   "outputs": [],
   "source": [
    "#input_list"
   ]
  },
  {
   "cell_type": "code",
   "execution_count": 5,
   "metadata": {},
   "outputs": [
    {
     "name": "stderr",
     "output_type": "stream",
     "text": [
      "Using TensorFlow backend.\n"
     ]
    },
    {
     "name": "stdout",
     "output_type": "stream",
     "text": [
      "[[38.45166]]\n"
     ]
    }
   ],
   "source": [
    "from numpy import array\n",
    "from keras.models import Sequential\n",
    "from keras.layers import Dense\n",
    "from keras.preprocessing.sequence import TimeseriesGenerator\n",
    "# define dataset\n",
    "#series = array([1, 4, 3, 6, 5, 8, 7, 10, 9, 12,15, 14,17, 16, 19, 18, 21, 20, 23, 22, 25,24, 27, 26, 29, 28, 31, 30, 33, 32, 35])\n",
    "series = array(future_list)\n",
    "# define generator\n",
    "n_input = 20\n",
    "generator = TimeseriesGenerator(series, series, length=n_input, batch_size=8)\n",
    "# define model\n",
    "model2 = Sequential()\n",
    "model2.add(Dense(100, activation='relu', input_dim=n_input))\n",
    "model2.add(Dense(1))\n",
    "model2.compile(optimizer='adam', loss='mse')\n",
    "# fit model\n",
    "model2.fit_generator(generator, steps_per_epoch=4, epochs=200, verbose=0)\n",
    "x_input = array(input_list).reshape((1, 20))\n",
    "yhat = model2.predict(x_input, verbose=2)\n",
    "print(yhat)"
   ]
  },
  {
   "cell_type": "code",
   "execution_count": 6,
   "metadata": {},
   "outputs": [
    {
     "name": "stdout",
     "output_type": "stream",
     "text": [
      "[[39.392326]]\n",
      "[[38.631577]]\n",
      "[[39.289093]]\n",
      "[[39.030342]]\n",
      "[[38.99375]]\n",
      "[[39.09751]]\n",
      "[[38.773888]]\n",
      "[[38.77839]]\n",
      "[[38.851723]]\n",
      "[[38.904106]]\n",
      "[[38.098045]]\n",
      "[[38.81098]]\n"
     ]
    }
   ],
   "source": [
    "for x in range(12):\n",
    "    import numpy as np\n",
    "    yhat = np.squeeze(yhat)\n",
    "    x_input=np.squeeze(x_input)\n",
    "    x_input= np.append(x_input, yhat)\n",
    "    x_input=np.delete(x_input, 0)\n",
    "    x_input=x_input.reshape((1, n_input))\n",
    "    yhat = model2.predict(x_input, verbose=0)\n",
    "    print(yhat)"
   ]
  },
  {
   "cell_type": "code",
   "execution_count": null,
   "metadata": {},
   "outputs": [],
   "source": []
  },
  {
   "cell_type": "code",
   "execution_count": 19,
   "metadata": {},
   "outputs": [],
   "source": [
    "prediction_dates = pd.bdate_range(start='2020-11-06', end='2020-12-07')\n",
    "#prediction_dates = pd.bdate_range(start='2020-15-10', end='2020-15-10')\n",
    "list_dates = []\n",
    "for i in prediction_dates:\n",
    "    list_dates.append(i.strftime('%Y-%m-%d'))"
   ]
  },
  {
   "cell_type": "code",
   "execution_count": 20,
   "metadata": {},
   "outputs": [
    {
     "data": {
      "text/plain": [
       "22"
      ]
     },
     "execution_count": 20,
     "metadata": {},
     "output_type": "execute_result"
    }
   ],
   "source": [
    "len(prediction_dates)"
   ]
  },
  {
   "cell_type": "code",
   "execution_count": null,
   "metadata": {},
   "outputs": [],
   "source": []
  }
 ],
 "metadata": {
  "kernelspec": {
   "display_name": "Python 3",
   "language": "python",
   "name": "python3"
  },
  "language_info": {
   "codemirror_mode": {
    "name": "ipython",
    "version": 3
   },
   "file_extension": ".py",
   "mimetype": "text/x-python",
   "name": "python",
   "nbconvert_exporter": "python",
   "pygments_lexer": "ipython3",
   "version": "3.7.6"
  }
 },
 "nbformat": 4,
 "nbformat_minor": 4
}
