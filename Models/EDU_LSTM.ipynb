{
 "cells": [
  {
   "cell_type": "code",
   "execution_count": 1,
   "metadata": {},
   "outputs": [],
   "source": [
    "#Dependencies\n",
    "from tensorflow.keras.layers import LSTM\n",
    "from tensorflow.keras.models import Sequential\n",
    "from tensorflow.keras.layers import Dense\n",
    "from tensorflow.keras.layers import Activation\n",
    "from tensorflow.keras.layers import Dropout\n",
    "from numpy import array\n",
    "import pandas as pd\n",
    "import numpy as np\n",
    "from sklearn.model_selection import train_test_split\n",
    "import matplotlib.pyplot as plt\n"
   ]
  },
  {
   "cell_type": "code",
   "execution_count": 2,
   "metadata": {},
   "outputs": [],
   "source": [
    "#Read Data\n",
    "EDU = pd.read_csv(\"EDU.csv\", date_parser=True)"
   ]
  },
  {
   "cell_type": "code",
   "execution_count": 3,
   "metadata": {},
   "outputs": [],
   "source": [
    "#Change paramters\n",
    "cut_off_date = \"2019-1-1\"\n",
    "x_train_days = 150\n",
    "num_epochs = 50\n",
    "num_batch = 32\n",
    "data_dim = 1\n",
    "units1=50\n",
    "units2=50"
   ]
  },
  {
   "cell_type": "code",
   "execution_count": 4,
   "metadata": {},
   "outputs": [],
   "source": [
    "#Create Training Set based of date selected\n",
    "EDU_train_ = EDU[EDU[\"Date\"]<cut_off_date].copy()"
   ]
  },
  {
   "cell_type": "code",
   "execution_count": 5,
   "metadata": {},
   "outputs": [],
   "source": [
    "#Create testing set\n",
    "EDU_test = EDU[EDU[\"Date\"]>cut_off_date].copy()"
   ]
  },
  {
   "cell_type": "code",
   "execution_count": 6,
   "metadata": {},
   "outputs": [],
   "source": [
    "#Delete Unnessary Columns\n",
    "train_EDU=EDU_train_.drop([\"Adj Close\",\"Volume\",\"High\", \"Low\", \"Close\"], axis = 1)\n",
    "train_EDU.to_csv(\"EDU_Train_Data.csv\")\n",
    "train_EDU=train_EDU.drop(\"Date\",axis = 1)"
   ]
  },
  {
   "cell_type": "code",
   "execution_count": 7,
   "metadata": {},
   "outputs": [],
   "source": [
    "#Scale Data\n",
    "from sklearn.preprocessing import MinMaxScaler\n",
    "scalar = MinMaxScaler()\n",
    "EDU_train = scalar.fit_transform(train_EDU)"
   ]
  },
  {
   "cell_type": "code",
   "execution_count": 8,
   "metadata": {},
   "outputs": [],
   "source": [
    "X_train = []\n",
    "y_train = []"
   ]
  },
  {
   "cell_type": "code",
   "execution_count": 9,
   "metadata": {},
   "outputs": [],
   "source": [
    "# Number of days of training data into X train and rest of data into Y train\n",
    "X_train = []\n",
    "y_train = []\n",
    "for i in range (x_train_days,EDU_train.shape[0]):\n",
    "    X_train.append(EDU_train[i-x_train_days:i])\n",
    "    y_train.append(EDU_train[i, 0])"
   ]
  },
  {
   "cell_type": "code",
   "execution_count": 10,
   "metadata": {},
   "outputs": [],
   "source": [
    "#Create Arrays and show shape\n",
    "X_train, y_train  = np.array(X_train), np.array(y_train)"
   ]
  },
  {
   "cell_type": "code",
   "execution_count": 11,
   "metadata": {},
   "outputs": [],
   "source": [
    "#Create Model\n",
    "model = Sequential()\n",
    "\n",
    "model.add(LSTM(units=units1, activation=\"relu\", return_sequences= True, input_shape=(X_train.shape[1],data_dim)))\n",
    "model.add(Dropout(0.2))\n",
    "\n",
    "model.add(LSTM(units=units2, activation=\"relu\"))\n",
    "model.add(Dropout(0.2))\n",
    "\n",
    "model.add(Dense(1))"
   ]
  },
  {
   "cell_type": "code",
   "execution_count": 12,
   "metadata": {},
   "outputs": [
    {
     "name": "stdout",
     "output_type": "stream",
     "text": [
      "Model: \"sequential\"\n",
      "_________________________________________________________________\n",
      "Layer (type)                 Output Shape              Param #   \n",
      "=================================================================\n",
      "lstm (LSTM)                  (None, 150, 50)           10400     \n",
      "_________________________________________________________________\n",
      "dropout (Dropout)            (None, 150, 50)           0         \n",
      "_________________________________________________________________\n",
      "lstm_1 (LSTM)                (None, 50)                20200     \n",
      "_________________________________________________________________\n",
      "dropout_1 (Dropout)          (None, 50)                0         \n",
      "_________________________________________________________________\n",
      "dense (Dense)                (None, 1)                 51        \n",
      "=================================================================\n",
      "Total params: 30,651\n",
      "Trainable params: 30,651\n",
      "Non-trainable params: 0\n",
      "_________________________________________________________________\n"
     ]
    }
   ],
   "source": [
    "#Show model summary\n",
    "model.summary()"
   ]
  },
  {
   "cell_type": "code",
   "execution_count": 13,
   "metadata": {},
   "outputs": [],
   "source": [
    "#Compile Model\n",
    "model.compile(optimizer=\"adam\", loss=\"mean_squared_error\")"
   ]
  },
  {
   "cell_type": "code",
   "execution_count": 14,
   "metadata": {},
   "outputs": [
    {
     "name": "stdout",
     "output_type": "stream",
     "text": [
      "Train on 824 samples\n",
      "Epoch 1/50\n",
      "824/824 [==============================] - 26s 31ms/sample - loss: 0.1052\n",
      "Epoch 2/50\n",
      "824/824 [==============================] - 17s 21ms/sample - loss: 0.0113\n",
      "Epoch 3/50\n",
      "824/824 [==============================] - 18s 22ms/sample - loss: 0.0102\n",
      "Epoch 4/50\n",
      "824/824 [==============================] - 17s 21ms/sample - loss: 0.0089\n",
      "Epoch 5/50\n",
      "824/824 [==============================] - 17s 21ms/sample - loss: 0.0080\n",
      "Epoch 6/50\n",
      "824/824 [==============================] - 17s 21ms/sample - loss: 0.0082\n",
      "Epoch 7/50\n",
      "824/824 [==============================] - 18s 21ms/sample - loss: 0.0077\n",
      "Epoch 8/50\n",
      "824/824 [==============================] - 17s 21ms/sample - loss: 0.0078\n",
      "Epoch 9/50\n",
      "824/824 [==============================] - 19s 22ms/sample - loss: 0.0071\n",
      "Epoch 10/50\n",
      "824/824 [==============================] - 19s 23ms/sample - loss: 0.0072\n",
      "Epoch 11/50\n",
      "824/824 [==============================] - 17s 20ms/sample - loss: 0.0075\n",
      "Epoch 12/50\n",
      "824/824 [==============================] - 17s 21ms/sample - loss: 0.0072\n",
      "Epoch 13/50\n",
      "824/824 [==============================] - 17s 20ms/sample - loss: 0.0072\n",
      "Epoch 14/50\n",
      "824/824 [==============================] - 18s 22ms/sample - loss: 0.0067\n",
      "Epoch 15/50\n",
      "824/824 [==============================] - 17s 21ms/sample - loss: 0.0064\n",
      "Epoch 16/50\n",
      "824/824 [==============================] - 17s 20ms/sample - loss: 0.0060\n",
      "Epoch 17/50\n",
      "824/824 [==============================] - 22s 26ms/sample - loss: 0.0062\n",
      "Epoch 18/50\n",
      "824/824 [==============================] - 17s 20ms/sample - loss: 0.0059\n",
      "Epoch 19/50\n",
      "824/824 [==============================] - 17s 20ms/sample - loss: 0.0059\n",
      "Epoch 20/50\n",
      "824/824 [==============================] - 17s 21ms/sample - loss: 0.0060\n",
      "Epoch 21/50\n",
      "824/824 [==============================] - 16s 20ms/sample - loss: 0.0061\n",
      "Epoch 22/50\n",
      "824/824 [==============================] - 17s 20ms/sample - loss: 0.0056\n",
      "Epoch 23/50\n",
      "824/824 [==============================] - 16s 20ms/sample - loss: 0.0058\n",
      "Epoch 24/50\n",
      "824/824 [==============================] - 16s 20ms/sample - loss: 0.0052\n",
      "Epoch 25/50\n",
      "824/824 [==============================] - 16s 20ms/sample - loss: 0.0059\n",
      "Epoch 26/50\n",
      "824/824 [==============================] - 16s 20ms/sample - loss: 0.0054\n",
      "Epoch 27/50\n",
      "824/824 [==============================] - 16s 20ms/sample - loss: 0.0052\n",
      "Epoch 28/50\n",
      "824/824 [==============================] - 16s 20ms/sample - loss: 0.0055\n",
      "Epoch 29/50\n",
      "824/824 [==============================] - 16s 20ms/sample - loss: 0.0055\n",
      "Epoch 30/50\n",
      "824/824 [==============================] - 17s 20ms/sample - loss: 0.0051\n",
      "Epoch 31/50\n",
      "824/824 [==============================] - 17s 21ms/sample - loss: 0.0053\n",
      "Epoch 32/50\n",
      "824/824 [==============================] - 16s 20ms/sample - loss: 0.0053\n",
      "Epoch 33/50\n",
      "824/824 [==============================] - 18s 22ms/sample - loss: 0.0053\n",
      "Epoch 34/50\n",
      "824/824 [==============================] - 17s 21ms/sample - loss: 0.0051\n",
      "Epoch 35/50\n",
      "824/824 [==============================] - 22s 27ms/sample - loss: 0.0048\n",
      "Epoch 36/50\n",
      "824/824 [==============================] - 19s 23ms/sample - loss: 0.0053\n",
      "Epoch 37/50\n",
      "824/824 [==============================] - 19s 23ms/sample - loss: 0.0052\n",
      "Epoch 38/50\n",
      "824/824 [==============================] - 19s 23ms/sample - loss: 0.0048\n",
      "Epoch 39/50\n",
      "824/824 [==============================] - 17s 20ms/sample - loss: 0.0048\n",
      "Epoch 40/50\n",
      "824/824 [==============================] - 17s 21ms/sample - loss: 0.0047\n",
      "Epoch 41/50\n",
      "824/824 [==============================] - 17s 21ms/sample - loss: 0.0049\n",
      "Epoch 42/50\n",
      "824/824 [==============================] - 17s 20ms/sample - loss: 0.0045\n",
      "Epoch 43/50\n",
      "824/824 [==============================] - 17s 20ms/sample - loss: 0.0048\n",
      "Epoch 44/50\n",
      "824/824 [==============================] - 17s 21ms/sample - loss: 0.0046\n",
      "Epoch 45/50\n",
      "824/824 [==============================] - 17s 21ms/sample - loss: 0.0050\n",
      "Epoch 46/50\n",
      "824/824 [==============================] - 16s 20ms/sample - loss: 0.0049\n",
      "Epoch 47/50\n",
      "824/824 [==============================] - 17s 20ms/sample - loss: 0.0050\n",
      "Epoch 48/50\n",
      "824/824 [==============================] - 17s 21ms/sample - loss: 0.0045\n",
      "Epoch 49/50\n",
      "824/824 [==============================] - 17s 20ms/sample - loss: 0.0041\n",
      "Epoch 50/50\n",
      "824/824 [==============================] - 17s 21ms/sample - loss: 0.0041\n"
     ]
    },
    {
     "data": {
      "text/plain": [
       "<tensorflow.python.keras.callbacks.History at 0x7fb4970310d0>"
      ]
     },
     "execution_count": 14,
     "metadata": {},
     "output_type": "execute_result"
    }
   ],
   "source": [
    "model.fit(X_train, y_train, epochs=num_epochs, batch_size=num_batch)"
   ]
  },
  {
   "cell_type": "code",
   "execution_count": 15,
   "metadata": {},
   "outputs": [],
   "source": [
    "#Add training data to test data\n",
    "past_days = train_EDU.tail(x_train_days)"
   ]
  },
  {
   "cell_type": "code",
   "execution_count": 16,
   "metadata": {},
   "outputs": [],
   "source": [
    "EDU_predict = past_days.append(EDU_test, ignore_index = True)"
   ]
  },
  {
   "cell_type": "code",
   "execution_count": 17,
   "metadata": {},
   "outputs": [
    {
     "data": {
      "text/html": [
       "<div>\n",
       "<style scoped>\n",
       "    .dataframe tbody tr th:only-of-type {\n",
       "        vertical-align: middle;\n",
       "    }\n",
       "\n",
       "    .dataframe tbody tr th {\n",
       "        vertical-align: top;\n",
       "    }\n",
       "\n",
       "    .dataframe thead th {\n",
       "        text-align: right;\n",
       "    }\n",
       "</style>\n",
       "<table border=\"1\" class=\"dataframe\">\n",
       "  <thead>\n",
       "    <tr style=\"text-align: right;\">\n",
       "      <th></th>\n",
       "      <th>Open</th>\n",
       "      <th>Date</th>\n",
       "      <th>High</th>\n",
       "      <th>Low</th>\n",
       "      <th>Close</th>\n",
       "      <th>Adj Close</th>\n",
       "      <th>Volume</th>\n",
       "    </tr>\n",
       "  </thead>\n",
       "  <tbody>\n",
       "    <tr>\n",
       "      <th>0</th>\n",
       "      <td>82.860001</td>\n",
       "      <td>NaN</td>\n",
       "      <td>NaN</td>\n",
       "      <td>NaN</td>\n",
       "      <td>NaN</td>\n",
       "      <td>NaN</td>\n",
       "      <td>NaN</td>\n",
       "    </tr>\n",
       "    <tr>\n",
       "      <th>1</th>\n",
       "      <td>81.889999</td>\n",
       "      <td>NaN</td>\n",
       "      <td>NaN</td>\n",
       "      <td>NaN</td>\n",
       "      <td>NaN</td>\n",
       "      <td>NaN</td>\n",
       "      <td>NaN</td>\n",
       "    </tr>\n",
       "    <tr>\n",
       "      <th>2</th>\n",
       "      <td>82.330002</td>\n",
       "      <td>NaN</td>\n",
       "      <td>NaN</td>\n",
       "      <td>NaN</td>\n",
       "      <td>NaN</td>\n",
       "      <td>NaN</td>\n",
       "      <td>NaN</td>\n",
       "    </tr>\n",
       "    <tr>\n",
       "      <th>3</th>\n",
       "      <td>83.110001</td>\n",
       "      <td>NaN</td>\n",
       "      <td>NaN</td>\n",
       "      <td>NaN</td>\n",
       "      <td>NaN</td>\n",
       "      <td>NaN</td>\n",
       "      <td>NaN</td>\n",
       "    </tr>\n",
       "    <tr>\n",
       "      <th>4</th>\n",
       "      <td>82.580002</td>\n",
       "      <td>NaN</td>\n",
       "      <td>NaN</td>\n",
       "      <td>NaN</td>\n",
       "      <td>NaN</td>\n",
       "      <td>NaN</td>\n",
       "      <td>NaN</td>\n",
       "    </tr>\n",
       "    <tr>\n",
       "      <th>...</th>\n",
       "      <td>...</td>\n",
       "      <td>...</td>\n",
       "      <td>...</td>\n",
       "      <td>...</td>\n",
       "      <td>...</td>\n",
       "      <td>...</td>\n",
       "      <td>...</td>\n",
       "    </tr>\n",
       "    <tr>\n",
       "      <th>429</th>\n",
       "      <td>180.000000</td>\n",
       "      <td>2020-11-06</td>\n",
       "      <td>184.600006</td>\n",
       "      <td>178.089996</td>\n",
       "      <td>178.990005</td>\n",
       "      <td>178.990005</td>\n",
       "      <td>1259200.0</td>\n",
       "    </tr>\n",
       "    <tr>\n",
       "      <th>430</th>\n",
       "      <td>181.399994</td>\n",
       "      <td>2020-11-09</td>\n",
       "      <td>181.789993</td>\n",
       "      <td>175.029999</td>\n",
       "      <td>175.279999</td>\n",
       "      <td>175.279999</td>\n",
       "      <td>2260900.0</td>\n",
       "    </tr>\n",
       "    <tr>\n",
       "      <th>431</th>\n",
       "      <td>173.729996</td>\n",
       "      <td>2020-11-10</td>\n",
       "      <td>176.880005</td>\n",
       "      <td>172.309998</td>\n",
       "      <td>173.970001</td>\n",
       "      <td>173.970001</td>\n",
       "      <td>1196300.0</td>\n",
       "    </tr>\n",
       "    <tr>\n",
       "      <th>432</th>\n",
       "      <td>174.000000</td>\n",
       "      <td>2020-11-11</td>\n",
       "      <td>175.770004</td>\n",
       "      <td>172.130005</td>\n",
       "      <td>174.259995</td>\n",
       "      <td>174.259995</td>\n",
       "      <td>720700.0</td>\n",
       "    </tr>\n",
       "    <tr>\n",
       "      <th>433</th>\n",
       "      <td>175.000000</td>\n",
       "      <td>2020-11-12</td>\n",
       "      <td>175.119995</td>\n",
       "      <td>170.070007</td>\n",
       "      <td>170.179993</td>\n",
       "      <td>170.179993</td>\n",
       "      <td>1107100.0</td>\n",
       "    </tr>\n",
       "  </tbody>\n",
       "</table>\n",
       "<p>434 rows × 7 columns</p>\n",
       "</div>"
      ],
      "text/plain": [
       "           Open        Date        High         Low       Close   Adj Close  \\\n",
       "0     82.860001         NaN         NaN         NaN         NaN         NaN   \n",
       "1     81.889999         NaN         NaN         NaN         NaN         NaN   \n",
       "2     82.330002         NaN         NaN         NaN         NaN         NaN   \n",
       "3     83.110001         NaN         NaN         NaN         NaN         NaN   \n",
       "4     82.580002         NaN         NaN         NaN         NaN         NaN   \n",
       "..          ...         ...         ...         ...         ...         ...   \n",
       "429  180.000000  2020-11-06  184.600006  178.089996  178.990005  178.990005   \n",
       "430  181.399994  2020-11-09  181.789993  175.029999  175.279999  175.279999   \n",
       "431  173.729996  2020-11-10  176.880005  172.309998  173.970001  173.970001   \n",
       "432  174.000000  2020-11-11  175.770004  172.130005  174.259995  174.259995   \n",
       "433  175.000000  2020-11-12  175.119995  170.070007  170.179993  170.179993   \n",
       "\n",
       "        Volume  \n",
       "0          NaN  \n",
       "1          NaN  \n",
       "2          NaN  \n",
       "3          NaN  \n",
       "4          NaN  \n",
       "..         ...  \n",
       "429  1259200.0  \n",
       "430  2260900.0  \n",
       "431  1196300.0  \n",
       "432   720700.0  \n",
       "433  1107100.0  \n",
       "\n",
       "[434 rows x 7 columns]"
      ]
     },
     "execution_count": 17,
     "metadata": {},
     "output_type": "execute_result"
    }
   ],
   "source": [
    "EDU_predict"
   ]
  },
  {
   "cell_type": "code",
   "execution_count": 18,
   "metadata": {},
   "outputs": [],
   "source": [
    "EDU_predict=EDU_predict.drop([\"Adj Close\",\"Volume\",\"High\", \"Low\", \"Close\"], axis =1)"
   ]
  },
  {
   "cell_type": "code",
   "execution_count": 19,
   "metadata": {},
   "outputs": [],
   "source": [
    "#Drop unnessary rows\n",
    "EDU_predict.to_csv(\"EDU_Input_Data.csv\")\n",
    "EDU_predict=EDU_predict.drop(\"Date\", axis = 1)"
   ]
  },
  {
   "cell_type": "code",
   "execution_count": 20,
   "metadata": {},
   "outputs": [],
   "source": [
    "#Transform data\n",
    "inputs = scalar.transform(EDU_predict)"
   ]
  },
  {
   "cell_type": "code",
   "execution_count": 21,
   "metadata": {},
   "outputs": [],
   "source": [
    "#Create X_test data with number of days and the rest into Y test\n",
    "X_test = []\n",
    "y_test = []\n",
    "\n",
    "for i in range(x_train_days, inputs.shape[0]):\n",
    "    X_test.append(inputs[i-x_train_days:i])\n",
    "    y_test.append(inputs[i, 0])"
   ]
  },
  {
   "cell_type": "code",
   "execution_count": 22,
   "metadata": {},
   "outputs": [
    {
     "data": {
      "text/plain": [
       "((284, 150, 1), (284,))"
      ]
     },
     "execution_count": 22,
     "metadata": {},
     "output_type": "execute_result"
    }
   ],
   "source": [
    "#Show shape\n",
    "X_test, y_test = np.array(X_test), np.array(y_test)\n",
    "X_test.shape, y_test.shape"
   ]
  },
  {
   "cell_type": "code",
   "execution_count": 23,
   "metadata": {},
   "outputs": [],
   "source": [
    "#make predictions\n",
    "predictions=model.predict(X_test)"
   ]
  },
  {
   "cell_type": "code",
   "execution_count": 24,
   "metadata": {},
   "outputs": [],
   "source": [
    "real_predictions = scalar.inverse_transform(predictions)\n",
    "EDU_test['Date']= pd.to_datetime(EDU_test['Date'])"
   ]
  },
  {
   "cell_type": "code",
   "execution_count": 27,
   "metadata": {},
   "outputs": [
    {
     "data": {
      "image/png": "[encoded data removed]",
      "text/plain": [
       "<Figure size 1008x360 with 1 Axes>"
      ]
     },
     "metadata": {
      "needs_background": "light"
     },
     "output_type": "display_data"
    }
   ],
   "source": [
    "plt.figure(figsize=(14,5))\n",
    "plt.plot(EDU_test[\"Date\"],EDU_test[\"Close\"], color = 'red', label = 'Real EDU Stock Price')\n",
    "plt.plot(EDU_test[\"Date\"],real_predictions, color = 'blue', label = 'Predicted EDU Stock Price')\n",
    "plt.title('EDU Stock Price Prediction')\n",
    "plt.xlabel('Time')\n",
    "plt.ylabel('EDU Stock Price')\n",
    "plt.legend()\n",
    "plt.savefig('Unadjusted')"
   ]
  },
  {
   "cell_type": "code",
   "execution_count": 28,
   "metadata": {},
   "outputs": [],
   "source": [
    "import datetime\n",
    "adjustment = datetime.timedelta(days=7)\n",
    "EDU_test['Date']= pd.to_datetime(EDU_test['Date'])\n",
    "EDU_test[\"Adj_Date\"] = EDU_test[\"Date\"]- adjustment"
   ]
  },
  {
   "cell_type": "code",
   "execution_count": 29,
   "metadata": {},
   "outputs": [
    {
     "data": {
      "image/png": "[encoded data removed]",
      "text/plain": [
       "<Figure size 1008x360 with 1 Axes>"
      ]
     },
     "metadata": {
      "needs_background": "light"
     },
     "output_type": "display_data"
    }
   ],
   "source": [
    "plt.figure(figsize=(14,5))\n",
    "plt.plot(EDU_test[\"Date\"],EDU_test[\"Close\"], color = 'red', label = 'Real EDU Stock Price')\n",
    "plt.plot(EDU_test[\"Adj_Date\"],real_predictions, color = 'blue', label = 'Predicted EDU Stock Price')\n",
    "plt.title('EDU Stock Price Prediction')\n",
    "plt.xlabel('Time')\n",
    "plt.ylabel('EDU Stock Price')\n",
    "plt.legend()\n",
    "plt.savefig('Adjusted')"
   ]
  },
  {
   "cell_type": "code",
   "execution_count": 30,
   "metadata": {},
   "outputs": [],
   "source": [
    "EDU_data_= EDU_test.copy()"
   ]
  },
  {
   "cell_type": "code",
   "execution_count": 31,
   "metadata": {},
   "outputs": [],
   "source": [
    "EDU_data=EDU_data_.drop([\"Open\",\"High\",\"Low\", \"Adj Close\",\"Volume\"], axis = 1) "
   ]
  },
  {
   "cell_type": "code",
   "execution_count": 32,
   "metadata": {},
   "outputs": [],
   "source": [
    "EDU_data[\"Predicted_Close\"]= real_predictions"
   ]
  },
  {
   "cell_type": "code",
   "execution_count": 33,
   "metadata": {},
   "outputs": [],
   "source": [
    "EDU_data.to_csv(\"EDU_Predicted.csv\")"
   ]
  },
  {
   "cell_type": "code",
   "execution_count": 62,
   "metadata": {},
   "outputs": [],
   "source": [
    "future_data = EDU_data.tail(100)\n",
    "future_list = future_data[\"Close\"].to_list()\n",
    "future_input = np.array(future_list)"
   ]
  },
  {
   "cell_type": "code",
   "execution_count": 63,
   "metadata": {},
   "outputs": [],
   "source": [
    "#future_data = CSCO_data.tail(120)\n",
    "#future_list = future_data[\"Close\"].to_list()\n",
    "#future_input = np.array(future_list)"
   ]
  },
  {
   "cell_type": "code",
   "execution_count": 64,
   "metadata": {},
   "outputs": [],
   "source": [
    "days_testing = 10"
   ]
  },
  {
   "cell_type": "code",
   "execution_count": 65,
   "metadata": {},
   "outputs": [],
   "source": [
    "#input_data = CSCO_data.tail(days_testing)\n",
    "#input_list = input_data[\"Predicted Close\"].to_list()\n",
    "#data_input = np.array(input_data)"
   ]
  },
  {
   "cell_type": "code",
   "execution_count": 66,
   "metadata": {},
   "outputs": [],
   "source": [
    "input_data = EDU_data.tail(days_testing)\n",
    "input_list = input_data[\"Close\"].to_list()\n",
    "data_input = np.array(input_data)"
   ]
  },
  {
   "cell_type": "code",
   "execution_count": 67,
   "metadata": {},
   "outputs": [],
   "source": [
    "from numpy import array\n",
    "from keras.models import Sequential\n",
    "from keras.layers import Dense\n",
    "from keras.preprocessing.sequence import TimeseriesGenerator\n",
    "# define dataset\n",
    "series = array(future_list)\n",
    "# define generator\n",
    "n_input = days_testing\n",
    "generator = TimeseriesGenerator(series, series, length=n_input, batch_size=32)\n",
    "# define model\n",
    "model2 = Sequential()\n",
    "model2.add(Dense(100, activation='relu', input_dim=n_input))\n",
    "model2.add(Dense(1))\n",
    "model2.compile(optimizer='adam', loss='mse')\n",
    "# fit model\n",
    "model2.fit_generator(generator, steps_per_epoch=3, epochs=250, verbose=0)\n",
    "# make a one step prediction out of sample\n",
    "x_future = array(input_list).reshape((1, n_input))\n",
    "future_prediction = model2.predict(x_future, verbose=2)"
   ]
  },
  {
   "cell_type": "code",
   "execution_count": 68,
   "metadata": {},
   "outputs": [],
   "source": [
    "prediction_arrays= []\n",
    "for x in range(30):\n",
    "    import numpy as np\n",
    "    future_prediction = np.squeeze(future_prediction)\n",
    "    x_future=np.squeeze(x_future)\n",
    "    x_future= np.append(x_future, future_prediction)\n",
    "    x_future=np.delete(x_future, 0)\n",
    "    x_future=x_future.reshape((1, n_input))\n",
    "    future_prediction = model2.predict(x_future, verbose=0)\n",
    "    prediction_arrays.append(future_prediction)"
   ]
  },
  {
   "cell_type": "code",
   "execution_count": 69,
   "metadata": {},
   "outputs": [],
   "source": [
    "#Create Date\n",
    "prediction_dates = pd.bdate_range(start='2020-11-15', end='2020-12-15')\n",
    "#prediction_dates = pd.bdate_range(start='2020-15-10', end='2020-15-10')\n",
    "#prediction_dates = pd.bdate_range(start='2020-11-06', end='2020-12-07')\n",
    "list_dates = []\n",
    "for i in prediction_dates:\n",
    "    list_dates.append(i.strftime('%Y-%m-%d'))"
   ]
  },
  {
   "cell_type": "code",
   "execution_count": 70,
   "metadata": {},
   "outputs": [],
   "source": [
    "prediction_list = []\n",
    "for i in range(22):\n",
    "    values = prediction_arrays[i][0][0]\n",
    "    prediction_list.append(values)"
   ]
  },
  {
   "cell_type": "code",
   "execution_count": 71,
   "metadata": {},
   "outputs": [
    {
     "data": {
      "text/plain": [
       "22"
      ]
     },
     "execution_count": 71,
     "metadata": {},
     "output_type": "execute_result"
    }
   ],
   "source": [
    "len(list_dates)"
   ]
  },
  {
   "cell_type": "code",
   "execution_count": 72,
   "metadata": {},
   "outputs": [],
   "source": [
    "#Create DataFrame\n",
    "list_ = prediction_list  \n",
    "future_df = pd.DataFrame(list_, columns =['Future_Values']) "
   ]
  },
  {
   "cell_type": "code",
   "execution_count": 73,
   "metadata": {},
   "outputs": [],
   "source": [
    "future_df[\"Dates\"]=list_dates\n",
    "future_df[\"Dates\"]= pd.to_datetime(future_df[\"Dates\"])"
   ]
  },
  {
   "cell_type": "code",
   "execution_count": 74,
   "metadata": {
    "scrolled": true
   },
   "outputs": [
    {
     "data": {
      "text/html": [
       "<div>\n",
       "<style scoped>\n",
       "    .dataframe tbody tr th:only-of-type {\n",
       "        vertical-align: middle;\n",
       "    }\n",
       "\n",
       "    .dataframe tbody tr th {\n",
       "        vertical-align: top;\n",
       "    }\n",
       "\n",
       "    .dataframe thead th {\n",
       "        text-align: right;\n",
       "    }\n",
       "</style>\n",
       "<table border=\"1\" class=\"dataframe\">\n",
       "  <thead>\n",
       "    <tr style=\"text-align: right;\">\n",
       "      <th></th>\n",
       "      <th>Future_Values</th>\n",
       "      <th>Dates</th>\n",
       "    </tr>\n",
       "  </thead>\n",
       "  <tbody>\n",
       "    <tr>\n",
       "      <th>0</th>\n",
       "      <td>170.083664</td>\n",
       "      <td>2020-11-16</td>\n",
       "    </tr>\n",
       "    <tr>\n",
       "      <th>1</th>\n",
       "      <td>173.018631</td>\n",
       "      <td>2020-11-17</td>\n",
       "    </tr>\n",
       "    <tr>\n",
       "      <th>2</th>\n",
       "      <td>176.921295</td>\n",
       "      <td>2020-11-18</td>\n",
       "    </tr>\n",
       "    <tr>\n",
       "      <th>3</th>\n",
       "      <td>179.624222</td>\n",
       "      <td>2020-11-19</td>\n",
       "    </tr>\n",
       "    <tr>\n",
       "      <th>4</th>\n",
       "      <td>179.743301</td>\n",
       "      <td>2020-11-20</td>\n",
       "    </tr>\n",
       "    <tr>\n",
       "      <th>5</th>\n",
       "      <td>178.610062</td>\n",
       "      <td>2020-11-23</td>\n",
       "    </tr>\n",
       "    <tr>\n",
       "      <th>6</th>\n",
       "      <td>177.679306</td>\n",
       "      <td>2020-11-24</td>\n",
       "    </tr>\n",
       "    <tr>\n",
       "      <th>7</th>\n",
       "      <td>176.797226</td>\n",
       "      <td>2020-11-25</td>\n",
       "    </tr>\n",
       "    <tr>\n",
       "      <th>8</th>\n",
       "      <td>175.472824</td>\n",
       "      <td>2020-11-26</td>\n",
       "    </tr>\n",
       "    <tr>\n",
       "      <th>9</th>\n",
       "      <td>175.584885</td>\n",
       "      <td>2020-11-27</td>\n",
       "    </tr>\n",
       "    <tr>\n",
       "      <th>10</th>\n",
       "      <td>177.375504</td>\n",
       "      <td>2020-11-30</td>\n",
       "    </tr>\n",
       "    <tr>\n",
       "      <th>11</th>\n",
       "      <td>179.484543</td>\n",
       "      <td>2020-12-01</td>\n",
       "    </tr>\n",
       "    <tr>\n",
       "      <th>12</th>\n",
       "      <td>181.313950</td>\n",
       "      <td>2020-12-02</td>\n",
       "    </tr>\n",
       "    <tr>\n",
       "      <th>13</th>\n",
       "      <td>182.436234</td>\n",
       "      <td>2020-12-03</td>\n",
       "    </tr>\n",
       "    <tr>\n",
       "      <th>14</th>\n",
       "      <td>182.641983</td>\n",
       "      <td>2020-12-04</td>\n",
       "    </tr>\n",
       "    <tr>\n",
       "      <th>15</th>\n",
       "      <td>182.200607</td>\n",
       "      <td>2020-12-07</td>\n",
       "    </tr>\n",
       "    <tr>\n",
       "      <th>16</th>\n",
       "      <td>181.667557</td>\n",
       "      <td>2020-12-08</td>\n",
       "    </tr>\n",
       "    <tr>\n",
       "      <th>17</th>\n",
       "      <td>181.295364</td>\n",
       "      <td>2020-12-09</td>\n",
       "    </tr>\n",
       "    <tr>\n",
       "      <th>18</th>\n",
       "      <td>181.255814</td>\n",
       "      <td>2020-12-10</td>\n",
       "    </tr>\n",
       "    <tr>\n",
       "      <th>19</th>\n",
       "      <td>181.968369</td>\n",
       "      <td>2020-12-11</td>\n",
       "    </tr>\n",
       "    <tr>\n",
       "      <th>20</th>\n",
       "      <td>183.278580</td>\n",
       "      <td>2020-12-14</td>\n",
       "    </tr>\n",
       "    <tr>\n",
       "      <th>21</th>\n",
       "      <td>184.620499</td>\n",
       "      <td>2020-12-15</td>\n",
       "    </tr>\n",
       "  </tbody>\n",
       "</table>\n",
       "</div>"
      ],
      "text/plain": [
       "    Future_Values      Dates\n",
       "0      170.083664 2020-11-16\n",
       "1      173.018631 2020-11-17\n",
       "2      176.921295 2020-11-18\n",
       "3      179.624222 2020-11-19\n",
       "4      179.743301 2020-11-20\n",
       "5      178.610062 2020-11-23\n",
       "6      177.679306 2020-11-24\n",
       "7      176.797226 2020-11-25\n",
       "8      175.472824 2020-11-26\n",
       "9      175.584885 2020-11-27\n",
       "10     177.375504 2020-11-30\n",
       "11     179.484543 2020-12-01\n",
       "12     181.313950 2020-12-02\n",
       "13     182.436234 2020-12-03\n",
       "14     182.641983 2020-12-04\n",
       "15     182.200607 2020-12-07\n",
       "16     181.667557 2020-12-08\n",
       "17     181.295364 2020-12-09\n",
       "18     181.255814 2020-12-10\n",
       "19     181.968369 2020-12-11\n",
       "20     183.278580 2020-12-14\n",
       "21     184.620499 2020-12-15"
      ]
     },
     "execution_count": 74,
     "metadata": {},
     "output_type": "execute_result"
    }
   ],
   "source": [
    "future_df"
   ]
  },
  {
   "cell_type": "code",
   "execution_count": 75,
   "metadata": {},
   "outputs": [
    {
     "data": {
      "image/png": "[encoded data removed]",
      "text/plain": [
       "<Figure size 1008x360 with 1 Axes>"
      ]
     },
     "metadata": {
      "needs_background": "light"
     },
     "output_type": "display_data"
    }
   ],
   "source": [
    "#Plot Values\n",
    "plt.figure(figsize=(14,5))\n",
    "plt.plot(EDU_test[\"Date\"],EDU_test[\"Close\"], color = 'red', label = 'Real EDU Stock Price')\n",
    "plt.plot(EDU_test[\"Date\"],real_predictions, color = 'blue', label = 'Predicted EDU Stock Price')\n",
    "plt.plot(future_df[\"Dates\"],future_df[\"Future_Values\"], color = 'green', label = 'Future EDU Stock Price')\n",
    "plt.title('EDUStock Price Prediction')\n",
    "plt.xlabel('Time')\n",
    "plt.ylabel('EDU Stock Price')\n",
    "plt.legend()\n",
    "plt.savefig('EDU_Future_Prediction')"
   ]
  },
  {
   "cell_type": "code",
   "execution_count": 76,
   "metadata": {},
   "outputs": [],
   "source": [
    "#Save DF\n",
    "future_df.to_csv(\"EDU_Future_Data.csv\")"
   ]
  },
  {
   "cell_type": "code",
   "execution_count": null,
   "metadata": {},
   "outputs": [],
   "source": [
    "pd.concat([future_df, EDU_data])"
   ]
  },
  {
   "cell_type": "code",
   "execution_count": null,
   "metadata": {},
   "outputs": [],
   "source": []
  },
  {
   "cell_type": "code",
   "execution_count": null,
   "metadata": {},
   "outputs": [],
   "source": []
  }
 ],
 "metadata": {
  "kernelspec": {
   "display_name": "Python 3",
   "language": "python",
   "name": "python3"
  },
  "language_info": {
   "codemirror_mode": {
    "name": "ipython",
    "version": 3
   },
   "file_extension": ".py",
   "mimetype": "text/x-python",
   "name": "python",
   "nbconvert_exporter": "python",
   "pygments_lexer": "ipython3",
   "version": "3.7.6"
  }
 },
 "nbformat": 4,
 "nbformat_minor": 4
}
