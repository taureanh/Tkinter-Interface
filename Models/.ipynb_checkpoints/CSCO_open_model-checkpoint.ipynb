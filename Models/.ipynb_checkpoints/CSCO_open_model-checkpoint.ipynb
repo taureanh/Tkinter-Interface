{
 "cells": [
  {
   "cell_type": "code",
   "execution_count": 1,
   "metadata": {},
   "outputs": [],
   "source": [
    "#Dependencies\n",
    "from tensorflow.keras.layers import LSTM\n",
    "from tensorflow.keras.models import Sequential\n",
    "from tensorflow.keras.layers import Dense\n",
    "from tensorflow.keras.layers import Activation\n",
    "from numpy import array\n",
    "import pandas as pd\n",
    "import numpy as np\n",
    "from sklearn.model_selection import train_test_split"
   ]
  },
  {
   "cell_type": "code",
   "execution_count": 2,
   "metadata": {},
   "outputs": [
    {
     "data": {
      "text/html": [
       "<div>\n",
       "<style scoped>\n",
       "    .dataframe tbody tr th:only-of-type {\n",
       "        vertical-align: middle;\n",
       "    }\n",
       "\n",
       "    .dataframe tbody tr th {\n",
       "        vertical-align: top;\n",
       "    }\n",
       "\n",
       "    .dataframe thead th {\n",
       "        text-align: right;\n",
       "    }\n",
       "</style>\n",
       "<table border=\"1\" class=\"dataframe\">\n",
       "  <thead>\n",
       "    <tr style=\"text-align: right;\">\n",
       "      <th></th>\n",
       "      <th>Date</th>\n",
       "      <th>Open</th>\n",
       "      <th>High</th>\n",
       "      <th>Low</th>\n",
       "      <th>Close</th>\n",
       "      <th>Adj Close</th>\n",
       "      <th>Volume</th>\n",
       "    </tr>\n",
       "  </thead>\n",
       "  <tbody>\n",
       "    <tr>\n",
       "      <th>0</th>\n",
       "      <td>2017-11-13</td>\n",
       "      <td>33.860001</td>\n",
       "      <td>34.209999</td>\n",
       "      <td>33.830002</td>\n",
       "      <td>33.950001</td>\n",
       "      <td>30.978666</td>\n",
       "      <td>16441500</td>\n",
       "    </tr>\n",
       "    <tr>\n",
       "      <th>1</th>\n",
       "      <td>2017-11-14</td>\n",
       "      <td>33.860001</td>\n",
       "      <td>34.160000</td>\n",
       "      <td>33.799999</td>\n",
       "      <td>34.040001</td>\n",
       "      <td>31.060797</td>\n",
       "      <td>17468500</td>\n",
       "    </tr>\n",
       "    <tr>\n",
       "      <th>2</th>\n",
       "      <td>2017-11-15</td>\n",
       "      <td>33.970001</td>\n",
       "      <td>34.310001</td>\n",
       "      <td>33.750000</td>\n",
       "      <td>34.110001</td>\n",
       "      <td>31.124666</td>\n",
       "      <td>30829600</td>\n",
       "    </tr>\n",
       "    <tr>\n",
       "      <th>3</th>\n",
       "      <td>2017-11-16</td>\n",
       "      <td>36.040001</td>\n",
       "      <td>36.669998</td>\n",
       "      <td>35.830002</td>\n",
       "      <td>35.880001</td>\n",
       "      <td>32.739746</td>\n",
       "      <td>61177100</td>\n",
       "    </tr>\n",
       "    <tr>\n",
       "      <th>4</th>\n",
       "      <td>2017-11-17</td>\n",
       "      <td>35.900002</td>\n",
       "      <td>36.320000</td>\n",
       "      <td>35.810001</td>\n",
       "      <td>35.900002</td>\n",
       "      <td>32.758003</td>\n",
       "      <td>27988000</td>\n",
       "    </tr>\n",
       "    <tr>\n",
       "      <th>...</th>\n",
       "      <td>...</td>\n",
       "      <td>...</td>\n",
       "      <td>...</td>\n",
       "      <td>...</td>\n",
       "      <td>...</td>\n",
       "      <td>...</td>\n",
       "      <td>...</td>\n",
       "    </tr>\n",
       "    <tr>\n",
       "      <th>750</th>\n",
       "      <td>2020-11-05</td>\n",
       "      <td>37.020000</td>\n",
       "      <td>37.299999</td>\n",
       "      <td>36.910000</td>\n",
       "      <td>37.230000</td>\n",
       "      <td>37.230000</td>\n",
       "      <td>23149700</td>\n",
       "    </tr>\n",
       "    <tr>\n",
       "      <th>751</th>\n",
       "      <td>2020-11-06</td>\n",
       "      <td>37.560001</td>\n",
       "      <td>37.599998</td>\n",
       "      <td>37.080002</td>\n",
       "      <td>37.529999</td>\n",
       "      <td>37.529999</td>\n",
       "      <td>19475300</td>\n",
       "    </tr>\n",
       "    <tr>\n",
       "      <th>752</th>\n",
       "      <td>2020-11-09</td>\n",
       "      <td>39.919998</td>\n",
       "      <td>40.230000</td>\n",
       "      <td>38.119999</td>\n",
       "      <td>38.200001</td>\n",
       "      <td>38.200001</td>\n",
       "      <td>42649500</td>\n",
       "    </tr>\n",
       "    <tr>\n",
       "      <th>753</th>\n",
       "      <td>2020-11-10</td>\n",
       "      <td>38.209999</td>\n",
       "      <td>39.029999</td>\n",
       "      <td>38.169998</td>\n",
       "      <td>38.720001</td>\n",
       "      <td>38.720001</td>\n",
       "      <td>31514500</td>\n",
       "    </tr>\n",
       "    <tr>\n",
       "      <th>754</th>\n",
       "      <td>2020-11-11</td>\n",
       "      <td>39.009998</td>\n",
       "      <td>39.450001</td>\n",
       "      <td>38.439999</td>\n",
       "      <td>39.330002</td>\n",
       "      <td>39.330002</td>\n",
       "      <td>27332800</td>\n",
       "    </tr>\n",
       "  </tbody>\n",
       "</table>\n",
       "<p>755 rows × 7 columns</p>\n",
       "</div>"
      ],
      "text/plain": [
       "           Date       Open       High        Low      Close  Adj Close  \\\n",
       "0    2017-11-13  33.860001  34.209999  33.830002  33.950001  30.978666   \n",
       "1    2017-11-14  33.860001  34.160000  33.799999  34.040001  31.060797   \n",
       "2    2017-11-15  33.970001  34.310001  33.750000  34.110001  31.124666   \n",
       "3    2017-11-16  36.040001  36.669998  35.830002  35.880001  32.739746   \n",
       "4    2017-11-17  35.900002  36.320000  35.810001  35.900002  32.758003   \n",
       "..          ...        ...        ...        ...        ...        ...   \n",
       "750  2020-11-05  37.020000  37.299999  36.910000  37.230000  37.230000   \n",
       "751  2020-11-06  37.560001  37.599998  37.080002  37.529999  37.529999   \n",
       "752  2020-11-09  39.919998  40.230000  38.119999  38.200001  38.200001   \n",
       "753  2020-11-10  38.209999  39.029999  38.169998  38.720001  38.720001   \n",
       "754  2020-11-11  39.009998  39.450001  38.439999  39.330002  39.330002   \n",
       "\n",
       "       Volume  \n",
       "0    16441500  \n",
       "1    17468500  \n",
       "2    30829600  \n",
       "3    61177100  \n",
       "4    27988000  \n",
       "..        ...  \n",
       "750  23149700  \n",
       "751  19475300  \n",
       "752  42649500  \n",
       "753  31514500  \n",
       "754  27332800  \n",
       "\n",
       "[755 rows x 7 columns]"
      ]
     },
     "execution_count": 2,
     "metadata": {},
     "output_type": "execute_result"
    }
   ],
   "source": [
    "#Load Data\n",
    "#VMW = pd.read_csv(\"VMW.csv\")\n",
    "#VMW = pd.read_csv(\"VMW2.csv\")\n",
    "#VMW\n",
    "CSCO = pd.read_csv(\"CSCO.csv\")\n",
    "CSCO"
   ]
  },
  {
   "cell_type": "code",
   "execution_count": 3,
   "metadata": {},
   "outputs": [
    {
     "name": "stdout",
     "output_type": "stream",
     "text": [
      "Open shape\n",
      "(755, 1)\n",
      "Close shape\n",
      "(755, 1)\n"
     ]
    }
   ],
   "source": [
    "#Shape Data\n",
    "CSCO_open = CSCO['Open'].to_numpy()\n",
    "X = CSCO_open.reshape(-1,1)\n",
    "print(\"Open shape\")\n",
    "print(np.shape(X))\n",
    "CSCO_close = CSCO['Close'].to_numpy()\n",
    "y = CSCO_close.reshape(-1,1)\n",
    "print(\"Close shape\")\n",
    "print(np.shape(y))\n"
   ]
  },
  {
   "cell_type": "code",
   "execution_count": 4,
   "metadata": {},
   "outputs": [],
   "source": [
    "X = X.reshape(1,755,1)\n",
    "y = y.reshape(1,755,1)"
   ]
  },
  {
   "cell_type": "code",
   "execution_count": 5,
   "metadata": {},
   "outputs": [],
   "source": [
    "#Define Model\n",
    "model = Sequential()\n",
    "model.add(LSTM(32))\n",
    "model.add(Dense(1))\n",
    "#model.add(Activation('sigmod'))\n"
   ]
  },
  {
   "cell_type": "code",
   "execution_count": null,
   "metadata": {},
   "outputs": [],
   "source": [
    "#Compile model\n",
    "model.compile(optimizer='sgd', loss='mean_squared_error', metrics=['mean_squared_error'])"
   ]
  },
  {
   "cell_type": "code",
   "execution_count": null,
   "metadata": {},
   "outputs": [],
   "source": [
    "#Fit model\n",
    "#model.fit(X, y, batch_size=10, epoch=100)\n",
    "model.fit(\n",
    "    X_train,\n",
    "    y_train,\n",
    "    batch_size=32,\n",
    "    epochs=50,\n",
    "    shuffle=True,\n",
    "    verbose=2\n",
    ")"
   ]
  },
  {
   "cell_type": "code",
   "execution_count": null,
   "metadata": {},
   "outputs": [],
   "source": [
    "#Evaluate model\n",
    "loss, accuracy = model.evaluate(X_train, y_train)"
   ]
  },
  {
   "cell_type": "code",
   "execution_count": null,
   "metadata": {},
   "outputs": [],
   "source": [
    "#Make predictions\n",
    "predictions = model.predict(X)"
   ]
  },
  {
   "cell_type": "code",
   "execution_count": null,
   "metadata": {},
   "outputs": [],
   "source": [
    "predictions"
   ]
  },
  {
   "cell_type": "code",
   "execution_count": null,
   "metadata": {},
   "outputs": [],
   "source": []
  },
  {
   "cell_type": "code",
   "execution_count": null,
   "metadata": {},
   "outputs": [],
   "source": []
  },
  {
   "cell_type": "code",
   "execution_count": null,
   "metadata": {},
   "outputs": [],
   "source": []
  }
 ],
 "metadata": {
  "kernelspec": {
   "display_name": "Python 3",
   "language": "python",
   "name": "python3"
  },
  "language_info": {
   "codemirror_mode": {
    "name": "ipython",
    "version": 3
   },
   "file_extension": ".py",
   "mimetype": "text/x-python",
   "name": "python",
   "nbconvert_exporter": "python",
   "pygments_lexer": "ipython3",
   "version": "3.7.6"
  }
 },
 "nbformat": 4,
 "nbformat_minor": 4
}
